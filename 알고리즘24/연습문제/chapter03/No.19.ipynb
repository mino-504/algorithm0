{
 "cells": [
  {
   "cell_type": "markdown",
   "metadata": {},
   "source": [
    "### No.19"
   ]
  },
  {
   "cell_type": "markdown",
   "metadata": {},
   "source": [
    "일 배정 문제에 대한 억지 기법 알고리즘을 파이썬으로 구현하고 간단한 입력에 대해 테스트하라."
   ]
  },
  {
   "cell_type": "code",
   "execution_count": 1,
   "metadata": {},
   "outputs": [
    {
     "name": "stdout",
     "output_type": "stream",
     "text": [
      "A, B, C\n",
      "0, 1, 2 :  13\n",
      "0, 2, 1 :  5\n",
      "1, 0, 2 :  14\n",
      "1, 2, 0 :  10\n",
      "2, 1, 0 :  14\n",
      "2, 0, 1 :  10\n",
      "제일 적은 비용의 일 배정은 :  5 A=0, B=2, C=1\n"
     ]
    }
   ],
   "source": [
    "A = [1, 3, 5]\n",
    "B = [2, 3, 1]\n",
    "C = [6, 3, 9]\n",
    "\n",
    "sum1=A[0]+B[1]+C[2]\n",
    "sum2=A[0]+B[2]+C[1]\n",
    "sum3=A[1]+B[0]+C[2]\n",
    "sum4=A[1]+B[2]+C[0]\n",
    "sum5=A[2]+B[1]+C[0]\n",
    "sum6=A[2]+B[0]+C[1]\n",
    "\n",
    "print(\"A, B, C\")\n",
    "print(\"0, 1, 2 : \", sum1)\n",
    "print(\"0, 2, 1 : \", sum2)\n",
    "print(\"1, 0, 2 : \", sum3)\n",
    "print(\"1, 2, 0 : \", sum4)\n",
    "print(\"2, 1, 0 : \", sum5)\n",
    "print(\"2, 0, 1 : \", sum6)\n",
    "\n",
    "minsum = min(sum1,sum2,sum3,sum4,sum5,sum6) \n",
    "\n",
    "print(\"제일 적은 비용의 일 배정은 : \",minsum,\"A=0, B=2, C=1\")"
   ]
  }
 ],
 "metadata": {
  "kernelspec": {
   "display_name": "Python 3",
   "language": "python",
   "name": "python3"
  },
  "language_info": {
   "codemirror_mode": {
    "name": "ipython",
    "version": 3
   },
   "file_extension": ".py",
   "mimetype": "text/x-python",
   "name": "python",
   "nbconvert_exporter": "python",
   "pygments_lexer": "ipython3",
   "version": "3.12.2"
  }
 },
 "nbformat": 4,
 "nbformat_minor": 2
}
