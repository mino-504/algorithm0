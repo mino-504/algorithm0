{
 "cells": [
  {
   "cell_type": "markdown",
   "metadata": {},
   "source": [
    "### 3.6 깊이 우선 탐색"
   ]
  },
  {
   "cell_type": "markdown",
   "metadata": {},
   "source": [
    "이미 한번 방문한 지점을 기억하기 위해 visited를 사용한다"
   ]
  },
  {
   "cell_type": "markdown",
   "metadata": {},
   "source": [
    "![3 6](https://github.com/mino-504/algorithm24/assets/162406487/87a65ffc-7cbc-4634-a555-2ec04f41a9c1)\n"
   ]
  },
  {
   "cell_type": "markdown",
   "metadata": {},
   "source": [
    "\n",
    "함수 이름 : dfs, 입력값 : mygraph = {\"A\" : {\"B\", \"C\"}, ... } 출력값 : ACDFBEGH"
   ]
  },
  {
   "cell_type": "code",
   "execution_count": 7,
   "metadata": {},
   "outputs": [
    {
     "name": "stdout",
     "output_type": "stream",
     "text": [
      "DFS : A C D F B E G H \n"
     ]
    }
   ],
   "source": [
    "#테스트 코드\n",
    "\n",
    "def dfs( graph, start, visited ):\n",
    "    if start not in visited :\n",
    "        visited.add(start)\n",
    "        print(start, end=' ')\n",
    "        nbr = graph[start] - visited\n",
    "        for v in nbr:\n",
    "            dfs(graph, v, visited)\n",
    "\n",
    "mygraph = { \"A\" : {\"B\",\"C\"}, \"B\" : {\"A\", \"D\"}, \"C\" : {\"A\",\"D\",\"E\"}, \"D\" : {\"B\",\"C\",\"F\"}, \"E\" : {\"C\",\"G\",\"H\"}, \"F\" : {\"D\"}, \"G\" : {\"E\",\"H\"}, \"H\" : {\"E\",\"G\"}}\n",
    "\n",
    "print('DFS : ', end='')\n",
    "dfs(mygraph, \"A\", set() )\n",
    "print()"
   ]
  },
  {
   "cell_type": "code",
   "execution_count": 9,
   "metadata": {},
   "outputs": [
    {
     "name": "stdout",
     "output_type": "stream",
     "text": [
      "DFS : 2 1 3 4 5 6 \n"
     ]
    }
   ],
   "source": [
    "def dfs( graph, start, visited ):\n",
    "    if start not in visited :\n",
    "        visited.add(start)\n",
    "        print(start, end=' ')\n",
    "        nbr = graph[start] - visited\n",
    "        for v in nbr:\n",
    "            dfs(graph, v, visited)\n",
    "\n",
    "mygraph = { \"1\" : {\"2\"}, \"2\" : {\"1\", \"3\", \"5\"}, \"3\" : {\"2\",\"4\"}, \"4\" : {\"3\"}, \"5\" : {\"2\",\"6\"}, \"6\" : {\"5\"}}\n",
    "\n",
    "print('DFS : ', end='')\n",
    "dfs(mygraph, \"2\", set() )\n",
    "print()"
   ]
  },
  {
   "attachments": {
    "화면 캡처 2024-04-11 161423.png": {
     "image/png": "[encoded data removed]"
    }
   },
   "cell_type": "markdown",
   "metadata": {},
   "source": [
    "### 수행결과\n",
    "![화면 캡처 2024-04-11 161423.png](<attachment:화면 캡처 2024-04-11 161423.png>)"
   ]
  },
  {
   "cell_type": "markdown",
   "metadata": {},
   "source": [
    "#### 복잡도 분석\n",
    "정점의 수가 n이고 간선의 수가 e인 그래프\n",
    "\n",
    "O(n+e)"
   ]
  },
  {
   "cell_type": "markdown",
   "metadata": {},
   "source": []
  }
 ],
 "metadata": {
  "kernelspec": {
   "display_name": "Python 3",
   "language": "python",
   "name": "python3"
  },
  "language_info": {
   "codemirror_mode": {
    "name": "ipython",
    "version": 3
   },
   "file_extension": ".py",
   "mimetype": "text/x-python",
   "name": "python",
   "nbconvert_exporter": "python",
   "pygments_lexer": "ipython3",
   "version": "3.12.2"
  }
 },
 "nbformat": 4,
 "nbformat_minor": 2
}
