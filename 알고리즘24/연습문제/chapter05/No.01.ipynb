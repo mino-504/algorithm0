{
 "cells": [
  {
   "cell_type": "markdown",
   "metadata": {},
   "source": [
    "### No.01\n"
   ]
  },
  {
   "cell_type": "markdown",
   "metadata": {},
   "source": [
    "(1)"
   ]
  },
  {
   "cell_type": "code",
   "execution_count": 1,
   "metadata": {},
   "outputs": [
    {
     "name": "stdout",
     "output_type": "stream",
     "text": [
      "가장 작은 항목: 2\n"
     ]
    }
   ],
   "source": [
    "def merge_sort(arr, left, right):\n",
    "    if left == right:  \n",
    "        return arr[left]\n",
    "    mid = (left + right) // 2  \n",
    "    left_min = merge_sort(arr, left, mid)\n",
    "    right_min = merge_sort(arr, mid + 1, right)\n",
    "    return min(left_min, right_min)\n",
    "\n",
    "arr = [3, 6, 8, 2, 10, 5]\n",
    "n = len(arr)\n",
    "\n",
    "min_item = merge_sort(arr, 0, n - 1)\n",
    "print(\"가장 작은 항목:\", min_item)"
   ]
  },
  {
   "cell_type": "markdown",
   "metadata": {},
   "source": [
    "(2)"
   ]
  },
  {
   "cell_type": "markdown",
   "metadata": {},
   "source": [
    "T(n) = 2T(n/2)+1"
   ]
  },
  {
   "cell_type": "markdown",
   "metadata": {},
   "source": [
    "(3)"
   ]
  },
  {
   "cell_type": "markdown",
   "metadata": {},
   "source": [
    "T(n)=2T(2/n​)+c=2(2T(4/n​)+c)+c=4T(4/n​)+3c   \n",
    "이 과정을 반복하면,   \n",
    "T(n)=2^k*T(n/2^k​)+kc   \n",
    "여기서 ( k )는 ( \\frac{n}{2^k} = 1 )일 때의 값으로 ( k = \\log_2 n )입니다. 따라서,   \n",
    "T(n)=nT(1)+c log2 ​n   \n",
    "( T(1) )은 상수이므로 최종 복잡도는 ( O(n) )입니다.      \n",
    "\n",
    "마스터 정리를 사용하여 이 식을 풀면, ( a = 2 ), ( b = 2 ), 그리고 ( f(n) = c )이므로 마스터 정리의 첫 번째 경우에 해당하며,    \n",
    "결과적으로 ( T(n) = O(n^{\\log_b a}) = O(n^{\\log_2 2}) = O(n) )입니다.   "
   ]
  },
  {
   "cell_type": "markdown",
   "metadata": {},
   "source": [
    "(4)"
   ]
  },
  {
   "cell_type": "markdown",
   "metadata": {},
   "source": [
    "억지 기법 알고리즘은 모든 항목을 순차적으로 비교하여 가장 작은 값을 찾는 반면, 분할 정복 알고리즘은 리스트를 반으로 나누어 각 부분의 최소값을 찾아 최종적인 최소값을 결정한다.   \n",
    "\n",
    "   분할 정복 알고리즘은 일반적으로 더 효율적이며, 복잡도가 ( O(n\\log n) )인 억지 기법보다 낮은 ( O(n) )입니다."
   ]
  }
 ],
 "metadata": {
  "kernelspec": {
   "display_name": "Python 3",
   "language": "python",
   "name": "python3"
  },
  "language_info": {
   "codemirror_mode": {
    "name": "ipython",
    "version": 3
   },
   "file_extension": ".py",
   "mimetype": "text/x-python",
   "name": "python",
   "nbconvert_exporter": "python",
   "pygments_lexer": "ipython3",
   "version": "3.12.2"
  }
 },
 "nbformat": 4,
 "nbformat_minor": 2
}
