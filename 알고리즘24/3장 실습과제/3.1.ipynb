{
 "cells": [
  {
   "cell_type": "markdown",
   "metadata": {},
   "source": [
    "### 3.1 선택정렬"
   ]
  },
  {
   "cell_type": "code",
   "execution_count": 18,
   "metadata": {},
   "outputs": [],
   "source": [
    "def selection_sort(A) :\n",
    "    n = len(A)\n",
    "    for i in range(n-1) :\n",
    "        least = i\n",
    "        for j in range(i+1, n) :\n",
    "            if(A[j]<A[least]) :\n",
    "                least = j\n",
    "    A[i], A[least] = A[least], A[i]\n",
    "    \n",
    "    data = [ 5, 3, 8, 4, 9, 1, 6, 2, 7 ]\n",
    "    print(\"Original : \", data)\n",
    "    selection_sort(data)\n",
    "    print(\"Selection : \", data)"
   ]
  },
  {
   "cell_type": "code",
   "execution_count": null,
   "metadata": {},
   "outputs": [],
   "source": []
  }
 ],
 "metadata": {
  "kernelspec": {
   "display_name": "Python 3",
   "language": "python",
   "name": "python3"
  },
  "language_info": {
   "codemirror_mode": {
    "name": "ipython",
    "version": 3
   },
   "file_extension": ".py",
   "mimetype": "text/x-python",
   "name": "python",
   "nbconvert_exporter": "python",
   "pygments_lexer": "ipython3",
   "version": "3.12.2"
  }
 },
 "nbformat": 4,
 "nbformat_minor": 2
}
