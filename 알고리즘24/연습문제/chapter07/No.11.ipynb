{
 "cells": [
  {
   "cell_type": "markdown",
   "metadata": {},
   "source": [
    "### No.11\n"
   ]
  },
  {
   "cell_type": "markdown",
   "metadata": {},
   "source": [
    "0-1배낭 채우기 알고리즘을 메모이제이션으로 구현해 보라."
   ]
  },
  {
   "cell_type": "code",
   "execution_count": 3,
   "metadata": {},
   "outputs": [
    {
     "name": "stdout",
     "output_type": "stream",
     "text": [
      "480\n"
     ]
    }
   ],
   "source": [
    "def knapSack_memo(W, wt, val, n):\n",
    "    memo = [[-1 for _ in range(W + 1)] for _ in range(n + 1)]\n",
    "    \n",
    "    def dp(i, w):\n",
    "        if i == 0 or w == 0:\n",
    "            return 0\n",
    "        \n",
    "        if memo[i][w] != -1:\n",
    "            return memo[i][w]\n",
    "        \n",
    "        if wt[i-1] > w:\n",
    "            memo[i][w] = dp(i-1, w)\n",
    "        else:\n",
    "            valWith = val[i-1] + dp(i-1, w-wt[i-1])\n",
    "            valWithout = dp(i-1, w)\n",
    "            memo[i][w] = max(valWith, valWithout)\n",
    "        \n",
    "        return memo[i][w]\n",
    "    \n",
    "    return dp(n, W)\n",
    "\n",
    "\n",
    "values = [60, 100, 190, 120, 200, 150]\n",
    "weights = [2, 5, 8, 4, 7, 6]\n",
    "W = 18\n",
    "n = len(values)\n",
    "print(knapSack_memo(W, weights, values, n))\n"
   ]
  },
  {
   "cell_type": "code",
   "execution_count": null,
   "metadata": {},
   "outputs": [],
   "source": []
  }
 ],
 "metadata": {
  "kernelspec": {
   "display_name": "Python 3",
   "language": "python",
   "name": "python3"
  },
  "language_info": {
   "codemirror_mode": {
    "name": "ipython",
    "version": 3
   },
   "file_extension": ".py",
   "mimetype": "text/x-python",
   "name": "python",
   "nbconvert_exporter": "python",
   "pygments_lexer": "ipython3",
   "version": "3.12.2"
  }
 },
 "nbformat": 4,
 "nbformat_minor": 2
}
