{
 "cells": [
  {
   "cell_type": "markdown",
   "metadata": {},
   "source": [
    "## No.17 \n",
    "16번 문제에서 설계한 알고리즘을 바탕으로 외판원 문제에 대한 억지 기법 알고리즘을 작성하고 간단한 그래프에 대해 테스트하라."
   ]
  },
  {
   "cell_type": "code",
   "execution_count": 1,
   "metadata": {},
   "outputs": [
    {
     "name": "stdout",
     "output_type": "stream",
     "text": [
      "최단 경로: ['B', 'A', 'C', 'D', 'B']\n"
     ]
    }
   ],
   "source": [
    "def nearest_neighbor(graph, start):\n",
    "    path = [start]  # 시작 도시를 방문한 경로\n",
    "    current_city = start  # 현재 위치를 시작 도시로 초기화\n",
    "    \n",
    "    while len(path) < len(graph):  # 모든 도시를 방문할 때까지 반복\n",
    "        nearest_city = None  #nearest_city라는 변수를 선언해주고 none값으로 체운다\n",
    "        min_distance = float('inf')  # 무한대로 초기화\n",
    "        \n",
    "        # 현재 도시와 연결된 도시들을 탐색하여 가장 가까운 도시 선택\n",
    "        for neighbor in graph[current_city]:\n",
    "            if neighbor not in path:   #연결된 지역이 중복이 아니라면\n",
    "                distance = graph[current_city][neighbor]\n",
    "                if distance < min_distance:\n",
    "                    min_distance = distance\n",
    "                    nearest_city = neighbor\n",
    "        \n",
    "        # 가장 가까운 도시를 방문한 경로에 추가하고 현재 도시를 업데이트\n",
    "        path.append(nearest_city)\n",
    "        current_city = nearest_city\n",
    "    \n",
    "    # 마지막으로 시작 도시로 돌아오는 경로 추가\n",
    "    path.append(start)\n",
    "    return path\n",
    "\n",
    "# 간단한 그래프를 만들어 테스트\n",
    "# 각 도시 간의 거리를 딕셔너리로 표현\n",
    "graph = {\n",
    "    'A': {'B': 2, 'C': 3, 'D': 4},\n",
    "    'B': {'A': 2, 'C': 4, 'D': 2},\n",
    "    'C': {'A': 7, 'B': 4, 'D': 5},\n",
    "    'D': {'A': 4, 'B': 2, 'C': 3}\n",
    "}\n",
    "\n",
    "start_city = 'B'  # 시작 도시 선택\n",
    "shortest_path = nearest_neighbor(graph, start_city)\n",
    "print(\"최단 경로:\", shortest_path)\n"
   ]
  }
 ],
 "metadata": {
  "kernelspec": {
   "display_name": "Python 3",
   "language": "python",
   "name": "python3"
  },
  "language_info": {
   "codemirror_mode": {
    "name": "ipython",
    "version": 3
   },
   "file_extension": ".py",
   "mimetype": "text/x-python",
   "name": "python",
   "nbconvert_exporter": "python",
   "pygments_lexer": "ipython3",
   "version": "3.12.2"
  }
 },
 "nbformat": 4,
 "nbformat_minor": 2
}
