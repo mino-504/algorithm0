{
 "cells": [
  {
   "cell_type": "markdown",
   "metadata": {},
   "source": [
    "## x.xx 실습과제\n",
    "----------"
   ]
  },
  {
   "cell_type": "markdown",
   "metadata": {},
   "source": [
    ">#### **1. 문제 정의(MD) (예제 그냥 문제 제목)**\n",
    ">"
   ]
  },
  {
   "cell_type": "markdown",
   "metadata": {},
   "source": [
    ">#### **2. 알고리즘 설명(MD)  (알고리즘 설명)**\n",
    ">"
   ]
  },
  {
   "cell_type": "markdown",
   "metadata": {},
   "source": [
    "#### **3. 손으로 푼 예제 (![이름][img]/이미지.jpg])  (책 예제 코드 이해 후 사진)**"
   ]
  },
  {
   "cell_type": "markdown",
   "metadata": {},
   "source": [
    "        "
   ]
  },
  {
   "cell_type": "markdown",
   "metadata": {},
   "source": [
    ">#### **4. 코드 개요(입력 변수, 출력, 알고리즘 개요) (MD)**\n",
    ">##### (코드 개요 설명 1. 입력 변수 2. 출력 3. 함수설명)\n",
    ">1. 입력 변수 : \n",
    ">2. 출력      &nbsp;&nbsp;&nbsp;&nbsp;&nbsp;&nbsp;&nbsp;&nbsp;:\n",
    ">3. 함수 설명 :"
   ]
  },
  {
   "cell_type": "markdown",
   "metadata": {},
   "source": [
    "---------"
   ]
  },
  {
   "cell_type": "markdown",
   "metadata": {},
   "source": [
    "#### **5. 코드(PY, C)**"
   ]
  },
  {
   "cell_type": "code",
   "execution_count": 3,
   "metadata": {},
   "outputs": [
    {
     "name": "stdout",
     "output_type": "stream",
     "text": [
      "Original: [5335, 4350, 3615, 1606, 803, 1522, 9732, 8169, 1529, 5754]\n",
      "Radix: [803, 1522, 1529, 1606, 3615, 4350, 5335, 5754, 8169, 9732]\n"
     ]
    }
   ],
   "source": [
    "from queue import Queue\n",
    "\n",
    "def radix_sort(A):\n",
    "    BUCKETS = 10\n",
    "    DIGITS = 4\n",
    "    queues = [Queue() for _ in range(BUCKETS)]\n",
    "    n = len(A)\n",
    "    output = [0] * n\n",
    "    \n",
    "    for d in range(DIGITS):\n",
    "        factor = 10 ** d\n",
    "        for i in range(n):\n",
    "            queues[(A[i] // factor) % BUCKETS].put(A[i])\n",
    "        \n",
    "        j = 0\n",
    "        for b in range(BUCKETS):\n",
    "            while not queues[b].empty():\n",
    "                output[j] = queues[b].get()\n",
    "                j += 1\n",
    "        \n",
    "        A[:] = output[:] \n",
    "    \n",
    "    return A\n",
    "\n",
    "data = [random.randint(1, 9999) for _ in range(10)]\n",
    "print(\"Original:\", data)\n",
    "sorted_data = radix_sort(data)\n",
    "print(\"Radix:\", sorted_data)\n"
   ]
  },
  {
   "cell_type": "markdown",
   "metadata": {},
   "source": [
    "------"
   ]
  },
  {
   "cell_type": "markdown",
   "metadata": {},
   "source": [
    "#### **6. 테스트 코드(PY, C), 입력을 바꾸어서**"
   ]
  },
  {
   "cell_type": "code",
   "execution_count": null,
   "metadata": {},
   "outputs": [],
   "source": []
  },
  {
   "cell_type": "markdown",
   "metadata": {},
   "source": [
    "---------"
   ]
  },
  {
   "cell_type": "markdown",
   "metadata": {},
   "source": [
    "#### **7. 수행 결과(MD, 결과 캡춰하여 이미지로 삽입)**"
   ]
  },
  {
   "cell_type": "markdown",
   "metadata": {},
   "source": []
  },
  {
   "cell_type": "markdown",
   "metadata": {},
   "source": [
    "----------"
   ]
  },
  {
   "cell_type": "markdown",
   "metadata": {},
   "source": [
    ">#### **8. 복잡도 분석(MD)**\n",
    ">"
   ]
  },
  {
   "cell_type": "markdown",
   "metadata": {},
   "source": [
    "#### **9. 조별 협력 내용(상호지도)**\n",
    "&emsp;"
   ]
  }
 ],
 "metadata": {
  "kernelspec": {
   "display_name": "Python 3",
   "language": "python",
   "name": "python3"
  },
  "language_info": {
   "codemirror_mode": {
    "name": "ipython",
    "version": 3
   },
   "file_extension": ".py",
   "mimetype": "text/x-python",
   "name": "python",
   "nbconvert_exporter": "python",
   "pygments_lexer": "ipython3",
   "version": "3.12.2"
  }
 },
 "nbformat": 4,
 "nbformat_minor": 2
}
