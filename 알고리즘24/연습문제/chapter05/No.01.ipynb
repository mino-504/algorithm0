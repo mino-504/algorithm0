{
 "cells": [
  {
   "cell_type": "markdown",
   "metadata": {},
   "source": [
    "### No.01\n"
   ]
  },
  {
   "cell_type": "markdown",
   "metadata": {},
   "source": [
    "(1)"
   ]
  },
  {
   "cell_type": "code",
   "execution_count": 1,
   "metadata": {},
   "outputs": [
    {
     "name": "stdout",
     "output_type": "stream",
     "text": [
      "가장 작은 항목: 2\n"
     ]
    }
   ],
   "source": [
    "def find_min(arr, left, right):\n",
    "    if left == right:  \n",
    "        return arr[left]\n",
    "    mid = (left + right) // 2  \n",
    "    left_min = find_min(arr, left, mid)\n",
    "    right_min = find_min(arr, mid + 1, right)\n",
    "    return min(left_min, right_min)\n",
    "\n",
    "arr = [3, 6, 8, 2, 10, 5]\n",
    "n = len(arr)\n",
    "\n",
    "min_item = find_min(arr, 0, n - 1)\n",
    "print(\"가장 작은 항목:\", min_item)"
   ]
  },
  {
   "cell_type": "markdown",
   "metadata": {},
   "source": [
    "(2)"
   ]
  },
  {
   "cell_type": "code",
   "execution_count": null,
   "metadata": {},
   "outputs": [],
   "source": []
  },
  {
   "cell_type": "markdown",
   "metadata": {},
   "source": [
    "T(n) = 2T(n/2)+1"
   ]
  },
  {
   "cell_type": "markdown",
   "metadata": {},
   "source": [
    "(3)"
   ]
  },
  {
   "cell_type": "markdown",
   "metadata": {},
   "source": [
    "T(n) = 2T(n/2)+1   \n",
    "     = 2[2T(n/2^2)+1]+1   \n",
    "     = 2^2T(n/2^2)+2+1   \n",
    "\n",
    "T(n) = 2[2T(n/2^3)+1]+2+1      \n",
    "     = 2^3T(n/2^3)+2^2+2+1   \n",
    "     ...   \n",
    "     =2^iT(n/2^i)+2^i-1+2^i-2+...+2+1   \n",
    "     "
   ]
  },
  {
   "cell_type": "markdown",
   "metadata": {},
   "source": [
    "\n"
   ]
  }
 ],
 "metadata": {
  "kernelspec": {
   "display_name": "Python 3",
   "language": "python",
   "name": "python3"
  },
  "language_info": {
   "codemirror_mode": {
    "name": "ipython",
    "version": 3
   },
   "file_extension": ".py",
   "mimetype": "text/x-python",
   "name": "python",
   "nbconvert_exporter": "python",
   "pygments_lexer": "ipython3",
   "version": "3.12.2"
  }
 },
 "nbformat": 4,
 "nbformat_minor": 2
}
