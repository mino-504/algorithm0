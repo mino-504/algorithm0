{
 "cells": [
  {
   "cell_type": "markdown",
   "metadata": {},
   "source": [
    "## 6.8 실습과제\n",
    "----------"
   ]
  },
  {
   "cell_type": "markdown",
   "metadata": {},
   "source": [
    ">#### **1. 문제 정의(MD) (예제 그냥 문제 제목)**\n",
    ">선형 조사법의 삭제 알고리즘"
   ]
  },
  {
   "cell_type": "markdown",
   "metadata": {},
   "source": [
    ">#### **2. 알고리즘 설명(MD)  (알고리즘 설명)**\n",
    ">원하는 숫자를 삭제하여 -1로 바꾼다"
   ]
  },
  {
   "cell_type": "markdown",
   "metadata": {},
   "source": [
    "#### **3. 손으로 푼 예제 (![이름][img]/이미지.jpg])  (책 예제 코드 이해 후 사진)**"
   ]
  },
  {
   "cell_type": "markdown",
   "metadata": {},
   "source": [
    "        "
   ]
  },
  {
   "cell_type": "markdown",
   "metadata": {},
   "source": [
    ">#### **4. 코드 개요(입력 변수, 출력, 알고리즘 개요) (MD)**\n",
    ">##### (코드 개요 설명 1. 입력 변수 2. 출력 3. 함수설명)\n",
    ">1. 입력 변수 : lp_delete(key)\n",
    ">2. 출력      &nbsp;&nbsp;&nbsp;&nbsp;&nbsp;&nbsp;&nbsp;&nbsp;: -1\n",
    ">3. 함수 설명 : 입력받은 테이블 위치의 수를 삭제하고 -1로 바꾼다"
   ]
  },
  {
   "cell_type": "markdown",
   "metadata": {},
   "source": [
    "---------"
   ]
  },
  {
   "cell_type": "markdown",
   "metadata": {},
   "source": [
    "#### **5. 코드(PY, C)**"
   ]
  },
  {
   "cell_type": "code",
   "execution_count": 2,
   "metadata": {},
   "outputs": [],
   "source": [
    "## 6.6 삽입 코드\n",
    "M = 13\n",
    "table = [None]*M\n",
    "def hashFn(key) :\n",
    "    return key % M\n",
    "\n",
    "def lp_insert(key):\n",
    "    id = hashFn(key)\n",
    "    count = M\n",
    "    while count>0 and (table[id] != None):\n",
    "        id=(id + 1 + M) % M\n",
    "        count -= 1\n",
    "    if count > 0:\n",
    "        table[id] = key\n",
    "    return\n",
    "\n",
    "##6.7 삽입 코드\n",
    "\n",
    "\n",
    "## 6.8 삭제 코드 \n",
    "def lp_delete(key):\n",
    "    id=hashFn(key)\n",
    "    count = M\n",
    "    while count>0 :\n",
    "        if table[id] == None : return\n",
    "        if table[id] != -1 and talbe[id] == key :\n",
    "            table[id] = -1\n",
    "            return\n",
    "        id = (id + 1 + M ) % M\n",
    "        count -= 1\n",
    "        \n"
   ]
  },
  {
   "cell_type": "markdown",
   "metadata": {},
   "source": [
    "------"
   ]
  },
  {
   "cell_type": "markdown",
   "metadata": {},
   "source": [
    "#### **6. 테스트 코드(PY, C), 입력을 바꾸어서**"
   ]
  },
  {
   "cell_type": "code",
   "execution_count": null,
   "metadata": {},
   "outputs": [],
   "source": []
  },
  {
   "cell_type": "markdown",
   "metadata": {},
   "source": [
    "---------"
   ]
  },
  {
   "cell_type": "markdown",
   "metadata": {},
   "source": [
    "#### **7. 수행 결과(MD, 결과 캡춰하여 이미지로 삽입)**"
   ]
  },
  {
   "cell_type": "markdown",
   "metadata": {},
   "source": []
  },
  {
   "cell_type": "markdown",
   "metadata": {},
   "source": [
    "----------"
   ]
  },
  {
   "cell_type": "markdown",
   "metadata": {},
   "source": [
    ">#### **8. 복잡도 분석(MD)**\n",
    ">"
   ]
  },
  {
   "cell_type": "markdown",
   "metadata": {},
   "source": [
    "#### **9. 조별 협력 내용(상호지도)**\n",
    "&emsp;"
   ]
  }
 ],
 "metadata": {
  "kernelspec": {
   "display_name": "Python 3",
   "language": "python",
   "name": "python3"
  },
  "language_info": {
   "codemirror_mode": {
    "name": "ipython",
    "version": 3
   },
   "file_extension": ".py",
   "mimetype": "text/x-python",
   "name": "python",
   "nbconvert_exporter": "python",
   "pygments_lexer": "ipython3",
   "version": "3.12.2"
  }
 },
 "nbformat": 4,
 "nbformat_minor": 2
}
