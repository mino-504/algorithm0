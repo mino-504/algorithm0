{
 "cells": [
  {
   "cell_type": "markdown",
   "metadata": {},
   "source": [
    "### No.02\n"
   ]
  },
  {
   "cell_type": "markdown",
   "metadata": {},
   "source": [
    ">재귀 함수 (T(n) = 2T(n/2) + n)이 있다고 가정하자. 여기서 (a = 2), (b = 2), 그리고 (f(n) = n)이다 이제 마스터 정리의 세 가지 경우를 적용해보자.   \n",
    ">   \n",
    ">>첫 번째 경우: (a < b^d)인 경우, (T(n) = O(n^d))입니다. 여기서 (d)는 (f(n) = O(n^d))에서 나온다. 하지만 이 경우에는 (a = b^d)이므로, 첫 번째 경우는 적용되지 않는다.   \n",
    ">\n",
    ">>두 번째 경우: (a = b^d)인 경우, (T(n) = O((n^d) log n))입니다. 이 경우에는 (a = b^d)이므로, 이 경우가 적용된다. 따라서, (T(n) = O(n log n))이다.   \n",
    ">\n",
    ">>세 번째 경우: (a > b^d)인 경우, (T(n) = O(n^{log_b a}))입니다. 하지만 이 경우에는 (a = b^d)이므로, 세 번째 경우는 적용되지 않는다.   \n",
    ">   \n",
    ">따라서, 주어진 재귀 함수 (T(n) = 2T(n/2) + n)의 시간 복잡도는 (O(n log n))입니다."
   ]
  }
 ],
 "metadata": {
  "language_info": {
   "name": "python"
  }
 },
 "nbformat": 4,
 "nbformat_minor": 2
}
