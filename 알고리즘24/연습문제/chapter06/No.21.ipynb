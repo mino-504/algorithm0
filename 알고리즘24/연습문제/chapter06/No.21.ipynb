{
 "cells": [
  {
   "cell_type": "markdown",
   "metadata": {},
   "source": [
    "### No.21"
   ]
  },
  {
   "cell_type": "markdown",
   "metadata": {},
   "source": [
    "##### h(k) = k mod 11을 기준으로 본다"
   ]
  },
  {
   "cell_type": "markdown",
   "metadata": {},
   "source": [
    "##### 12, 44, 13, 88, 23, 94, 11, 39, 20, 16, 5"
   ]
  },
  {
   "cell_type": "markdown",
   "metadata": {},
   "source": [
    "- ( h(12) = 12 mod 11 = 1 )\n",
    "- ( h(44) = 44 mod 11 = 0 )\n",
    "- ( h(13) = 13 mod 11 = 2 )\n",
    "- ( h(88) = 88 mod 11 = 0 ) (충돌 발생)\n",
    "- ( h(23) = 23 mod 11 = 1 ) (충돌 발생)\n",
    "- ( h(94) = 94 mod 11 = 6 )\n",
    "- ( h(11) = 11 mod 11 = 0 ) (충돌 발생)\n",
    "- ( h(39) = 39 mod 11 = 6 ) (충돌 발생)\n",
    "- ( h(20) = 20 mod 11 = 9 )\n",
    "- ( h(16) = 16 mod 11 = 5 )\n",
    "- ( h(5) = 5 mod 11 = 5 ) (충돌 발생)"
   ]
  },
  {
   "cell_type": "markdown",
   "metadata": {
    "vscode": {
     "languageId": "plaintext"
    }
   },
   "source": [
    " ### (1) 선형 조사법  \n",
    ">88에서 첫 충돌이 발생하여 1번으로 옮기고    \n",
    ">23이 88이 들어간 1번위치와 충돌하여 다음 빈자리인 4번으로 들어가게된다    \n",
    ">11인 0번은 0번부터 빈자리를 찾아서 5번으로 들어가게되고    \n",
    ">39은 6번 충돌로 인해 비어있는 7번으로 들어간다   \n",
    ">16도 11이 이미 들어간 5번 충돌로 인해 8번으로 들어가고   \n",
    ">마지막 5는 쭉 밀려서 10번자리로 체워지게 되는것이 선형 조사법이다."
   ]
  },
  {
   "cell_type": "markdown",
   "metadata": {},
   "source": [
    "| 인덱스 | 0  | 1  | 2  | 3  | 4  | 5  | 6  | 7  | 8  | 9  | 10 |\n",
    "|--------|----|----|----|----|----|----|----|----|----|----|----|\n",
    "| 값     | 44 | 12 | 13 | 88 | 23 | 11 | 94 | 39 | 16 | 20 | 5  |"
   ]
  },
  {
   "cell_type": "markdown",
   "metadata": {},
   "source": [
    "\n",
    " ### (2) 이차 조사법"
   ]
  },
  {
   "cell_type": "markdown",
   "metadata": {},
   "source": [
    "A[ (h(k) + f(i)) %M ], f(i)=i^2이고   \n",
    "i=0,1,2,3,...,M-1이다.\n",
    "\n",
    "- ( h(12) = 12 mod 11 = 1 )\n",
    "- ( h(44) = 44 mod 11 = 0 )\n",
    "- ( h(13) = 13 mod 11 = 2 )\n",
    "- ( h(88) = 88 mod 11 = 0 ) (충돌 발생)\n",
    "- ( h(23) = 23 mod 11 = 1 ) (충돌 발생)\n",
    "- ( h(94) = 94 mod 11 = 6 )\n",
    "- ( h(11) = 11 mod 11 = 0 ) (충돌 발생)\n",
    "- ( h(39) = 39 mod 11 = 6 ) (충돌 발생)\n",
    "- ( h(20) = 20 mod 11 = 9 )\n",
    "- ( h(16) = 16 mod 11 = 5 )\n",
    "- ( h(5) = 5 mod 11 = 5 ) (충돌 발생)\n",
    "\n",
    "1의 제곱, 2의 제곱, 3의 제곱, 4의 제곱.... empty원소를 찾을때까지 반복한다.\n"
   ]
  },
  {
   "cell_type": "markdown",
   "metadata": {},
   "source": [
    "| 인덱스 | 0  | 1  | 2  | 3  | 4  | 5  | 6  | 7  | 8  | 9  | 10 |\n",
    "|--------|----|----|----|----|----|----|----|----|----|----|----|\n",
    "| 값     | 44 | 12 | 13 | 88 | 23 | 11 | 94 | 39 | 16 | 20 | 5  |"
   ]
  },
  {
   "cell_type": "markdown",
   "metadata": {},
   "source": [
    "### (3) 이중 해시법"
   ]
  },
  {
   "cell_type": "markdown",
   "metadata": {},
   "source": [
    "우선적으로 h(k) = k mod 11을 하여 위치를 찾아보고     \n",
    "충돌이 났을때 충돌 위치로부터 7-(k mod 7)을 한 위치만큼 계속 옮기며 empty원소를 찾을때까지 반복한다\n"
   ]
  },
  {
   "cell_type": "markdown",
   "metadata": {},
   "source": [
    "| 인덱스 | 0  | 1  | 2  | 3  | 4  | 5  | 6  | 7 | 8  | 9  | 10 |\n",
    "|--------|----|----|----|----|----|----|----|----|----|----|----|\n",
    "| 값     | 44 | 12 | 13 | 88 | 39 | 20 | 23 | 2 | 16 | 11 | 94 |"
   ]
  },
  {
   "cell_type": "markdown",
   "metadata": {},
   "source": [
    "### (4) 체인법"
   ]
  },
  {
   "cell_type": "markdown",
   "metadata": {},
   "source": [
    "체인법은 표현하기에는 가장 쉽다.    \n",
    "그저 충돌이 일어나면 같은 장소에 연결리스트를 생성시켜서 쌓아두면 된다."
   ]
  },
  {
   "cell_type": "markdown",
   "metadata": {},
   "source": [
    "| 0  | 1  | 2  | 3 | 4 | 5  | 6  | 7 | 8 | 9  | 10 |\n",
    "|----|----|----|---|---|----|----|---|---|----|----|\n",
    "| 44 | 12 | 13 |   |   | 16 | 94 |   |   | 20 |    |\n",
    "| 88 | 23 |    |   |   | 5  | 39 |   |   |    |    |\n",
    "| 11 |    |    |   |   |    |    |   |   |    |    |"
   ]
  },
  {
   "cell_type": "markdown",
   "metadata": {},
   "source": []
  }
 ],
 "metadata": {
  "kernelspec": {
   "display_name": "Python 3",
   "language": "python",
   "name": "python3"
  },
  "language_info": {
   "codemirror_mode": {
    "name": "ipython",
    "version": 3
   },
   "file_extension": ".py",
   "mimetype": "text/x-python",
   "name": "python",
   "nbconvert_exporter": "python",
   "pygments_lexer": "ipython3",
   "version": "3.12.2"
  }
 },
 "nbformat": 4,
 "nbformat_minor": 2
}
